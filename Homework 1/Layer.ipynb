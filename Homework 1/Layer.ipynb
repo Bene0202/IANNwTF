{
 "cells": [
  {
   "cell_type": "code",
   "execution_count": 1,
   "id": "7e904495-7fb8-429c-be41-49b4410e8122",
   "metadata": {
    "tags": []
   },
   "outputs": [
    {
     "name": "stdout",
     "output_type": "stream",
     "text": [
      "importing Jupyter notebook from Functions.ipynb\n"
     ]
    }
   ],
   "source": [
    "import numpy as np\n",
    "import import_ipynb\n",
    "from Functions import sigmoid, softMax\n",
    "\n",
    "\n",
    "class layer ():\n",
    "    def __init__(self, learning_rate = 0.05, nodes = None, pre_nodes = None, activation_function = sigmoid):\n",
    "            self.learning_rate = learning_rate\n",
    "            self.activation_function = activation_function\n",
    "            self.nodes = nodes\n",
    "            self.pre_nodes = pre_nodes\n",
    "            self.weights = np.append(np.random.normal( 0, 0.2, size= [nodes, pre_nodes]),np.zeros(shape = [nodes,1]), axis=1)\n",
    "            self.layer_input = None\n",
    "            self.layer_activation = None\n",
    "            self.layer_error = None\n",
    "    \n",
    "    def forward_step (self, prev_layer):\n",
    "        if (type(prev_layer) != layer):\n",
    "            self.layer_input = prev_layer\n",
    "        else:\n",
    "            self.layer_input = prev_layer.layer_activation\n",
    "        output = np.empty(shape = [len(self.layer_input), self.nodes])\n",
    "        self.layer_input = np.append(self.layer_input, np.ones(shape = [len(self.layer_input),1]) , axis=1)\n",
    "        for i in range(len(self.layer_input)):\n",
    "            output[i] = np.matmul(self.layer_input[i],self.weights.T)\n",
    "        self.layer_activation = self.activation_function(output)          \n",
    "               \n",
    "    \n",
    "    def weights_back (self, sigmoid_back):\n",
    "        self.layer_error = np.matmul(sigmoid_back, self.weights[:,0:-1])\n",
    "        for i in range (len(self.layer_input)):\n",
    "            helper1 = np.expand_dims(sigmoid_back[i], axis=1)\n",
    "            helper2 = np.expand_dims(self.layer_input[i], axis=0)\n",
    "            weights_dev = np.matmul(helper1,helper2)\n",
    "            self.weights = self.weights - (self.learning_rate * weights_dev)\n",
    "    "
   ]
  },
  {
   "cell_type": "code",
   "execution_count": null,
   "id": "83003885-9254-4d66-81d1-41ff1e8a8676",
   "metadata": {},
   "outputs": [],
   "source": []
  },
  {
   "cell_type": "code",
   "execution_count": null,
   "id": "06bf7a98-cec4-4aa9-ab76-c6dd51d07699",
   "metadata": {},
   "outputs": [],
   "source": []
  }
 ],
 "metadata": {
  "kernelspec": {
   "display_name": "Python 3 (ipykernel)",
   "language": "python",
   "name": "python3"
  },
  "language_info": {
   "codemirror_mode": {
    "name": "ipython",
    "version": 3
   },
   "file_extension": ".py",
   "mimetype": "text/x-python",
   "name": "python",
   "nbconvert_exporter": "python",
   "pygments_lexer": "ipython3",
   "version": "3.11.5"
  }
 },
 "nbformat": 4,
 "nbformat_minor": 5
}
