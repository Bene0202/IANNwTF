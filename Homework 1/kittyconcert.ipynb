{
 "cells": [
  {
   "cell_type": "code",
   "execution_count": 2,
   "id": "2794c861-00d2-446b-9010-ae941d2c4d30",
   "metadata": {
    "tags": []
   },
   "outputs": [
    {
     "name": "stdout",
     "output_type": "stream",
     "text": [
      "Hello everybody! My name is Peter. I am very pleased to meet you Mary.\n",
      "Hello everybody! My name is Mary. I am very pleased to meet you Peter.\n"
     ]
    }
   ],
   "source": [
    "import import_ipynb\n",
    "from cat import cat\n",
    "\n",
    "Peter = cat(name = \"Peter\")\n",
    "Mary = cat(name = \"Mary\")\n",
    "Peter.greet(Mary)\n",
    "Mary.greet(Peter)"
   ]
  },
  {
   "cell_type": "code",
   "execution_count": null,
   "id": "43330af8-b35d-40b7-8c8f-a653d52419f7",
   "metadata": {},
   "outputs": [],
   "source": []
  }
 ],
 "metadata": {
  "kernelspec": {
   "display_name": "Python 3 (ipykernel)",
   "language": "python",
   "name": "python3"
  },
  "language_info": {
   "codemirror_mode": {
    "name": "ipython",
    "version": 3
   },
   "file_extension": ".py",
   "mimetype": "text/x-python",
   "name": "python",
   "nbconvert_exporter": "python",
   "pygments_lexer": "ipython3",
   "version": "3.11.5"
  }
 },
 "nbformat": 4,
 "nbformat_minor": 5
}
