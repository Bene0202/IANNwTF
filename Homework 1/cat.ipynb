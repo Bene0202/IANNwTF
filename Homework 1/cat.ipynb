{
 "cells": [
  {
   "cell_type": "code",
   "execution_count": 1,
   "id": "196408ba-a216-487e-ad6f-5b08b9978103",
   "metadata": {
    "tags": []
   },
   "outputs": [],
   "source": [
    "class cat:\n",
    "    def __init__(self, name=None):\n",
    "        if name is None:\n",
    "            print(\"Give your cat a name\")\n",
    "        else:\n",
    "            self.name = name\n",
    "    def greet (self, interlocutor):\n",
    "        print(\"Hello everybody! My name is \" + self.name + \". I am very pleased to meet you \" + interlocutor.name + \".\")"
   ]
  },
  {
   "cell_type": "code",
   "execution_count": 2,
   "id": "c06689f8-d7cb-4dbe-9530-913057b45a3f",
   "metadata": {
    "tags": []
   },
   "outputs": [
    {
     "name": "stdout",
     "output_type": "stream",
     "text": [
      "Hello everybody! My name is Peter. I am very pleased to meet you Mary.\n",
      "Hello everybody! My name is Mary. I am very pleased to meet you Peter.\n"
     ]
    }
   ],
   "source": [
    "Peter = cat(name = \"Peter\")\n",
    "Mary = cat(name = \"Mary\")\n",
    "Peter.greet(Mary)\n",
    "Mary.greet(Peter)"
   ]
  },
  {
   "cell_type": "code",
   "execution_count": null,
   "id": "1bd2594c-652b-4b3b-80e2-d3ff07856cfa",
   "metadata": {},
   "outputs": [],
   "source": []
  }
 ],
 "metadata": {
  "kernelspec": {
   "display_name": "Python 3 (ipykernel)",
   "language": "python",
   "name": "python3"
  },
  "language_info": {
   "codemirror_mode": {
    "name": "ipython",
    "version": 3
   },
   "file_extension": ".py",
   "mimetype": "text/x-python",
   "name": "python",
   "nbconvert_exporter": "python",
   "pygments_lexer": "ipython3",
   "version": "3.11.5"
  }
 },
 "nbformat": 4,
 "nbformat_minor": 5
}
