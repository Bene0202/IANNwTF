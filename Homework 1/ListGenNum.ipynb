{
 "cells": [
  {
   "cell_type": "code",
   "execution_count": 1,
   "id": "0c551c25-6578-4d30-a620-17af567369de",
   "metadata": {
    "tags": []
   },
   "outputs": [
    {
     "name": "stdout",
     "output_type": "stream",
     "text": [
      "[1, 4, 9, 16, 25, 36, 49, 64, 81, 100, 121, 144, 169, 196, 225, 256, 289, 324, 361, 400, 441, 484, 529, 576, 625, 676, 729, 784, 841, 900, 961, 1024, 1089, 1156, 1225, 1296, 1369, 1444, 1521, 1600, 1681, 1764, 1849, 1936, 2025, 2116, 2209, 2304, 2401, 2500, 2601, 2704, 2809, 2916, 3025, 3136, 3249, 3364, 3481, 3600, 3721, 3844, 3969, 4096, 4225, 4356, 4489, 4624, 4761, 4900, 5041, 5184, 5329, 5476, 5625, 5776, 5929, 6084, 6241, 6400, 6561, 6724, 6889, 7056, 7225, 7396, 7569, 7744, 7921, 8100, 8281, 8464, 8649, 8836, 9025, 9216, 9409, 9604]\n",
      "[4, 16, 36, 64, 100, 144, 196, 256, 324, 400, 484, 576, 676, 784, 900, 1024, 1156, 1296, 1444, 1600, 1764, 1936, 2116, 2304, 2500, 2704, 2916, 3136, 3364, 3600, 3844, 4096, 4356, 4624, 4900, 5184, 5476, 5776, 6084, 6400, 6724, 7056, 7396, 7744, 8100, 8464, 8836, 9216, 9604]\n"
     ]
    }
   ],
   "source": [
    "squares = [n**2 for n in range(1,99,1)]\n",
    "print(squares)\n",
    "evenSquares = [n**2 for n in range(1,99,1) if n % 2 == 0]\n",
    "print(evenSquares)"
   ]
  },
  {
   "cell_type": "code",
   "execution_count": 2,
   "id": "efeda849-8b1d-4547-ba04-03dddb5c5d36",
   "metadata": {
    "tags": []
   },
   "outputs": [
    {
     "name": "stdout",
     "output_type": "stream",
     "text": [
      "Meow \n",
      "Meow Meow \n",
      "Meow Meow Meow Meow \n",
      "Meow Meow Meow Meow Meow Meow Meow Meow \n",
      "Meow Meow Meow Meow Meow Meow Meow Meow Meow Meow Meow Meow Meow Meow Meow Meow \n"
     ]
    }
   ],
   "source": [
    "def wordGenerator (word, lines):\n",
    "    times = 0\n",
    "    num = 1\n",
    "    while times < lines:\n",
    "        out = \"Meow \"*num\n",
    "        yield out\n",
    "        num = num*2\n",
    "        times += 1\n",
    "        \n",
    "Meow = wordGenerator(\"Meow\", 5)\n",
    "for i in range(5):\n",
    "    print(next(Meow))\n",
    "\n"
   ]
  },
  {
   "cell_type": "code",
   "execution_count": 10,
   "id": "f06db3e4-27ec-45c0-bf41-5637fe94465d",
   "metadata": {
    "tags": []
   },
   "outputs": [
    {
     "name": "stdout",
     "output_type": "stream",
     "text": [
      "[[ 0.36335988  0.55084432 -0.34347492  0.48565197 -0.75048673]\n",
      " [-0.48028737  0.69434474 -0.79061111 -0.49920808 -1.59232729]\n",
      " [ 0.00316507 -0.64415587 -1.14008806  0.51227766  1.74095225]\n",
      " [-0.39231952  0.32903867 -0.7656731  -2.69573235 -0.4102986 ]\n",
      " [ 0.71641384  0.60813476 -0.62373076 -0.51409012 -0.72206826]]\n",
      "[[ 0.1320304   0.30342947 42.          0.23585784 42.        ]\n",
      " [42.          0.48211462 42.         42.         42.        ]\n",
      " [42.         42.         42.          0.2624284   3.03091474]\n",
      " [42.          0.10826644 42.         42.         42.        ]\n",
      " [ 0.5132488   0.36982788 42.         42.         42.        ]]\n",
      "[ 0.23585784 42.          0.2624284  42.         42.        ]\n"
     ]
    }
   ],
   "source": [
    "import numpy as np\n",
    "np.set_printoptions(suppress=True)\n",
    "\n",
    "Norm = np.random.default_rng().normal(0, 1, size=(5, 5))\n",
    "print(Norm)\n",
    "with np.nditer(Norm, op_flags=['readwrite']) as it:\n",
    "    for n in it:\n",
    "        if n > 0.09:\n",
    "            n[...] = n**2\n",
    "        else:\n",
    "            n[...] = 42\n",
    "print(Norm)\n",
    "print(Norm[:,3])    "
   ]
  },
  {
   "cell_type": "code",
   "execution_count": null,
   "id": "1cefed15-a0ed-4ab3-9dbb-e544af70fe3e",
   "metadata": {},
   "outputs": [],
   "source": []
  }
 ],
 "metadata": {
  "kernelspec": {
   "display_name": "Python 3 (ipykernel)",
   "language": "python",
   "name": "python3"
  },
  "language_info": {
   "codemirror_mode": {
    "name": "ipython",
    "version": 3
   },
   "file_extension": ".py",
   "mimetype": "text/x-python",
   "name": "python",
   "nbconvert_exporter": "python",
   "pygments_lexer": "ipython3",
   "version": "3.11.5"
  }
 },
 "nbformat": 4,
 "nbformat_minor": 5
}
