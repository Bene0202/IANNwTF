{
 "cells": [
  {
   "cell_type": "code",
   "execution_count": 1,
   "id": "7e904495-7fb8-429c-be41-49b4410e8122",
   "metadata": {
    "tags": []
   },
   "outputs": [],
   "source": [
    "import numpy as np\n",
    "\n",
    "class layer ():\n",
    "    def __init__(self, learning_rate = 0.05, nodes = None, pre_nodes = None): \n",
    "        if nodes == None:\n",
    "            print(\"Make sure to define a number of nodes\")\n",
    "        elif pre_nodes == None:\n",
    "            print(\"Make sure to include the previous layers nodes\")\n",
    "        else:\n",
    "            self.learning_rate = learning_rate\n",
    "            self.nodes = nodes\n",
    "            self.pre_nodes = pre_nodes\n",
    "            self.weights = np.random.uniform(-1,1, size=(pre_nodes,nodes))\n",
    "            self.bias = np.zeros(nodes)\n",
    "            self.layer_input = None\n",
    "            self.layer_preactivation = np.empty(self.nodes)\n",
    "            self.layer_activation = np.empty(self.nodes)\n",
    "    \n",
    "    def ReLu (self, n):\n",
    "        if n > 0:\n",
    "            return n\n",
    "        else:\n",
    "            return 0\n",
    "    \n",
    "    def ReLu_dev (self, x):\n",
    "        relu_dev = x\n",
    "        with np.nditer(relu_dev, op_flags=['readwrite']) as it:\n",
    "            for i in it:\n",
    "                if i > 0:\n",
    "                    i[...] = 1\n",
    "                else:\n",
    "                    i[...] = 0\n",
    "        return relu_dev\n",
    "    \n",
    "    def forward_step (self, prev_layer):\n",
    "        if type(prev_layer) == layer:\n",
    "            self.layer_input = prev_layer.layer_activation\n",
    "        else:\n",
    "            self.layer_input = prev_layer\n",
    "        for i in range (self.nodes):\n",
    "            self.layer_preactivation[i] = np.dot(self.layer_input,self.weights[:,i])\n",
    "            self.layer_activation[i] = self.ReLu(self.layer_preactivation[i]+self.bias[i])\n",
    "        \n",
    "    \n",
    "    def backward_step (self, next_layer):\n",
    "        if type(next_layer) == layer:\n",
    "            gradients = self.layer_input.T * (self.ReLu_dev(self.layer_preactivation) * next_layer.layer_input)\n",
    "            biases =self.ReLu_dev(self.layer_preactivation) * next_layer.layer_input\n",
    "            self.layer_input = np.matmul(self.ReLu_dev(self.layer_preactivation) * next_layer.layer_input,self.weights.T)\n",
    "        else:\n",
    "            gradients = self.layer_input.T * (self.ReLu_dev(self.layer_preactivation) * next_layer)\n",
    "            biases = self.ReLu_dev(self.layer_preactivation) * next_layer\n",
    "            self.layer_input = (self.ReLu_dev(self.layer_preactivation)*next_layer) * self.weights.T\n",
    "        \n",
    "        \n",
    "        self.weights = self.weights - self.learning_rate * gradients[0]\n",
    "        self.bias = self.bias - self.learning_rate * biases[0]\n",
    "\n",
    "        "
   ]
  },
  {
   "cell_type": "code",
   "execution_count": null,
   "id": "83003885-9254-4d66-81d1-41ff1e8a8676",
   "metadata": {},
   "outputs": [],
   "source": []
  }
 ],
 "metadata": {
  "kernelspec": {
   "display_name": "Python 3 (ipykernel)",
   "language": "python",
   "name": "python3"
  },
  "language_info": {
   "codemirror_mode": {
    "name": "ipython",
    "version": 3
   },
   "file_extension": ".py",
   "mimetype": "text/x-python",
   "name": "python",
   "nbconvert_exporter": "python",
   "pygments_lexer": "ipython3",
   "version": "3.11.5"
  }
 },
 "nbformat": 4,
 "nbformat_minor": 5
}
