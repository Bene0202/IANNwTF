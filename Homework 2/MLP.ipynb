{
 "cells": [
  {
   "cell_type": "code",
   "execution_count": 4,
   "id": "7a6d32bb-b3a3-4ff8-bd96-86d00cf09376",
   "metadata": {
    "tags": []
   },
   "outputs": [],
   "source": [
    "import numpy as np\n",
    "import import_ipynb\n",
    "from perceptron import layer\n",
    "\n",
    "\n",
    "class MLP ():\n",
    "    def __init__(self, num_units_per_Layer, learning_rate = 0.05, size_input = None):\n",
    "        if size_input == None:\n",
    "            return print(\"Make sure to define the size of the input\")\n",
    "        else:\n",
    "            self.num_layers = len(num_units_per_Layer)\n",
    "            self.layers = []\n",
    "            self.layers.append(layer(learning_rate, num_units_per_Layer[0], size_input))\n",
    "            for i in range(1,len(num_units_per_Layer)):\n",
    "                self.layers.append(layer(learning_rate, num_units_per_Layer[i], num_units_per_Layer[i-1]))\n",
    "    \n",
    "    \n",
    "    def forward_step(self, x_input):\n",
    "        self.layers[0].forward_step(x_input)\n",
    "        for i in range (1,self.num_layers):\n",
    "            self.layers[i].forward_step(self.layers[i-1])\n",
    "        return self.layers[-1].layer_activation\n",
    "    \n",
    "    \n",
    "    def backward_step(self, loss):\n",
    "        self.layers[-1].backward_step(loss)\n",
    "        for i in range (2,self.num_layers+1):\n",
    "            self.layers[-i].backward_step(self.layers[-i+1]) \n",
    "    "
   ]
  },
  {
   "cell_type": "code",
   "execution_count": null,
   "id": "a392a914-9d88-4454-8cf2-763cffb20faa",
   "metadata": {},
   "outputs": [],
   "source": []
  }
 ],
 "metadata": {
  "kernelspec": {
   "display_name": "Python 3 (ipykernel)",
   "language": "python",
   "name": "python3"
  },
  "language_info": {
   "codemirror_mode": {
    "name": "ipython",
    "version": 3
   },
   "file_extension": ".py",
   "mimetype": "text/x-python",
   "name": "python",
   "nbconvert_exporter": "python",
   "pygments_lexer": "ipython3",
   "version": "3.11.5"
  }
 },
 "nbformat": 4,
 "nbformat_minor": 5
}
